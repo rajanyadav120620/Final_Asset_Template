{
 "cells": [
  {
   "cell_type": "markdown",
   "id": "69babd31-ab66-459f-96f7-a9a100e054dc",
   "metadata": {},
   "source": [
    "!pip install xlsxwriter\n",
    "\n"
   ]
  },
  {
   "cell_type": "code",
   "execution_count": 7,
   "id": "77bcf629-6c16-440f-94fd-d222cc4e7fa8",
   "metadata": {},
   "outputs": [
    {
     "data": {
      "text/plain": [
       "'C:\\\\Users\\\\hp\\\\Desktop\\\\Daily Update\\\\Assert\\\\Asset2/Interactive_Employee_Selector.xlsx'"
      ]
     },
     "execution_count": 7,
     "metadata": {},
     "output_type": "execute_result"
    }
   ],
   "source": [
    "import pandas as pd\n",
    "\n",
    "# Create full Sheet1 dataset with many fields\n",
    "sheet1_data = {\n",
    "    \"emp_id\": [\"E001\", \"E002\", \"E003\", \"E004\"],\n",
    "    \"emp_name\": [\"Alice Smith\", \"Bob Johnson\", \"Charlie Patel\", \"Diana Roy\"],\n",
    "    \"designation\": [\"IT Officer\", \"Network Admin\", \"HR Executive\", \"Software Engineer\"],\n",
    "    \"mobile\": [\"9876543210\", \"8765432109\", \"7654321098\", \"6543210987\"],\n",
    "    \"asset_tag\": [\"A001\", \"A002\", \"A003\", \"A004\"],\n",
    "    \"make\": [\"HP\", \"Dell\", \"Lenovo\", \"Asus\"],\n",
    "    \"model\": [\"EliteBook 840\", \"Latitude 5510\", \"ThinkPad L14\", \"VivoBook 15\"],\n",
    "    \"serial_no\": [\"SN123456\", \"SN789012\", \"SN345678\", \"SN901234\"],\n",
    "    \"ip\": [\"192.168.1.10\", \"192.168.1.11\", \"192.168.1.12\", \"192.168.1.13\"]\n",
    "}\n",
    "\n",
    "# Sheet2: Will show selected info based on emp_id\n",
    "sheet2_header = {\n",
    "    \"Label\": [\"User ID\", \"Name\", \"Designation\", \"Mobile Number\"],\n",
    "    \"Value\": [\"=Sheet1!A2\", \"=Sheet1!B2\", \"=Sheet1!C2\", \"=Sheet1!D2\"]  # This simulates cell references\n",
    "}\n",
    "\n",
    "# Create the Excel writer with multiple sheets\n",
    "file_path = r\"C:\\Users\\hp\\Desktop\\Daily Update\\Assert\\Asset2/Interactive_Employee_Selector.xlsx\"\n",
    "with pd.ExcelWriter(file_path, engine='xlsxwriter') as writer:\n",
    "    pd.DataFrame(sheet1_data).to_excel(writer, index=False, sheet_name=\"Sheet1\")\n",
    "    pd.DataFrame(sheet2_header).to_excel(writer, index=False, sheet_name=\"Sheet2\")\n",
    "\n",
    "file_path\n"
   ]
  },
  {
   "cell_type": "code",
   "execution_count": 8,
   "id": "8acfbf16-a347-497a-8df4-0ec27e64b893",
   "metadata": {
    "scrolled": true
   },
   "outputs": [
    {
     "name": "stdout",
     "output_type": "stream",
     "text": [
      "✅ Excel file created with horizontal Sheet2 layout.\n"
     ]
    }
   ],
   "source": [
    "import pandas as pd\n",
    "\n",
    "# Sheet1: Full dataset\n",
    "sheet1_data = {\n",
    "    \"emp_id\": [\"E001\", \"E002\", \"E003\", \"E004\"],\n",
    "    \"emp_name\": [\"Alice Smith\", \"Bob Johnson\", \"Charlie Patel\", \"Diana Roy\"],\n",
    "    \"designation\": [\"IT Officer\", \"Network Admin\", \"HR Executive\", \"Software Engineer\"],\n",
    "    \"mobile\": [\"9876543210\", \"8765432109\", \"7654321098\", \"6543210987\"],\n",
    "    \"asset_tag\": [\"A001\", \"A002\", \"A003\", \"A004\"],\n",
    "    \"make\": [\"HP\", \"Dell\", \"Lenovo\", \"Asus\"],\n",
    "    \"model\": [\"EliteBook 840\", \"Latitude 5510\", \"ThinkPad L14\", \"VivoBook 15\"],\n",
    "    \"serial_no\": [\"SN123456\", \"SN789012\", \"SN345678\", \"SN901234\"],\n",
    "    \"ip\": [\"192.168.1.10\", \"192.168.1.11\", \"192.168.1.12\", \"192.168.1.13\"]\n",
    "}\n",
    "\n",
    "# Sheet2: 1 row with horizontal headers and Excel formulas to pull values from Sheet1 row 2\n",
    "sheet2_row = {\n",
    "    \"User ID\": [\"=Sheet1!A2\"],\n",
    "    \"Name\": [\"=Sheet1!B2\"],\n",
    "    \"Designation\": [\"=Sheet1!C2\"],\n",
    "    \"Mobile Number\": [\"=Sheet1!D2\"]\n",
    "}\n",
    "\n",
    "# Save both sheets into an Excel file\n",
    "file_path = r\"C:\\Users\\hp\\Desktop\\Daily Update\\Assert\\Asset2\\Interactive_Employee_Selector.xlsx\"\n",
    "with pd.ExcelWriter(file_path, engine=\"xlsxwriter\") as writer:\n",
    "    pd.DataFrame(sheet1_data).to_excel(writer, sheet_name=\"Sheet1\", index=False)\n",
    "    pd.DataFrame(sheet2_row).to_excel(writer, sheet_name=\"Sheet2\", index=False)\n",
    "\n",
    "print(\"✅ Excel file created with horizontal Sheet2 layout.\")\n"
   ]
  },
  {
   "cell_type": "markdown",
   "id": "a3b69e82-2cce-4017-b920-d582f34edcda",
   "metadata": {},
   "source": [
    "### Option 1: Auto-fill using Python + Pandas (Simple CLI Version)\n",
    "If you are okay with a terminal-based approach, here's a working code:"
   ]
  },
  {
   "cell_type": "code",
   "execution_count": 14,
   "id": "5a08db5e-9c2b-4a3d-962d-1ac36a82f042",
   "metadata": {},
   "outputs": [
    {
     "name": "stdin",
     "output_type": "stream",
     "text": [
      "Enter User ID (or type 'exit' to quit):  E002\n"
     ]
    },
    {
     "name": "stdout",
     "output_type": "stream",
     "text": [
      "\n",
      "User Data Found:\n",
      "emp_id    emp_name   designation     mobile asset_tag make         model serial_no           ip\n",
      "  E002 Bob Johnson Network Admin 8765432109      A002 Dell Latitude 5510  SN789012 192.168.1.11\n"
     ]
    },
    {
     "name": "stdin",
     "output_type": "stream",
     "text": [
      "Enter User ID (or type 'exit' to quit):  E003\n"
     ]
    },
    {
     "name": "stdout",
     "output_type": "stream",
     "text": [
      "\n",
      "User Data Found:\n",
      "emp_id      emp_name  designation     mobile asset_tag   make        model serial_no           ip\n",
      "  E003 Charlie Patel HR Executive 7654321098      A003 Lenovo ThinkPad L14  SN345678 192.168.1.12\n"
     ]
    },
    {
     "name": "stdin",
     "output_type": "stream",
     "text": [
      "Enter User ID (or type 'exit' to quit):  E005\n"
     ]
    },
    {
     "name": "stdout",
     "output_type": "stream",
     "text": [
      "❌ User ID not found. Try again.\n"
     ]
    },
    {
     "name": "stdin",
     "output_type": "stream",
     "text": [
      "Enter User ID (or type 'exit' to quit):  exit\n"
     ]
    }
   ],
   "source": [
    "import pandas as pd\n",
    "\n",
    "# Load your dataset\n",
    "df = pd.read_excel(r\"C:\\Users\\hp\\Desktop\\Daily Update\\Assert\\Asset2\\Interactive_Employee_Selector.xlsx\")  # Replace with your file\n",
    "\n",
    "# Convert user_id to string if needed\n",
    "df['emp_id'] = df['emp_id'].astype(str)\n",
    "\n",
    "while True:\n",
    "    search_id = input(\"Enter User ID (or type 'exit' to quit): \").strip()\n",
    "    if search_id.lower() == 'exit':\n",
    "        break\n",
    "\n",
    "    user_data = df[df['emp_id'] == search_id]\n",
    "\n",
    "    if not user_data.empty:\n",
    "        print(\"\\nUser Data Found:\")\n",
    "        print(user_data.to_string(index=False))\n",
    "    else:\n",
    "        print(\"❌ User ID not found. Try again.\")\n"
   ]
  },
  {
   "cell_type": "markdown",
   "id": "2bde94e1-de59-4433-bfd6-f62ca25620a6",
   "metadata": {},
   "source": [
    "### Option 2: Auto-fill with GUI using Tkinter\n",
    "If you want a simple GUI form:"
   ]
  },
  {
   "cell_type": "code",
   "execution_count": 18,
   "id": "9e9f297f-a136-4abb-b94f-1650816c9f66",
   "metadata": {},
   "outputs": [],
   "source": [
    "import pandas as pd\n",
    "import tkinter as tk\n",
    "from tkinter import messagebox\n",
    "\n",
    "# Load the dataset\n",
    "df = pd.read_excel(r\"C:\\Users\\hp\\Desktop\\Daily Update\\Assert\\Asset2\\Interactive_Employee_Selector.xlsx\")\n",
    "df['emp_id'] = df['emp_id'].astype(str)\n",
    "\n",
    "# GUI setup\n",
    "def search_user():\n",
    "    uid = entry_id.get().strip()\n",
    "    result = df[df['emp_id'] == uid]\n",
    "\n",
    "    if not result.empty:\n",
    "        output.delete(\"1.0\", tk.END)\n",
    "        output.insert(tk.END, result.to_string(index=False))\n",
    "    else:\n",
    "        messagebox.showinfo(\"Not Found\", \"User ID not found.\")\n",
    "\n",
    "root = tk.Tk()\n",
    "root.title(\"User Data Finder\")\n",
    "\n",
    "tk.Label(root, text=\"Enter Emp ID:\").pack()\n",
    "entry_id = tk.Entry(root)\n",
    "entry_id.pack()\n",
    "\n",
    "tk.Button(root, text=\"Search\", command=search_user).pack()\n",
    "\n",
    "output = tk.Text(root, height=10, width=50)\n",
    "output.pack()\n",
    "\n",
    "root.mainloop()\n"
   ]
  },
  {
   "cell_type": "markdown",
   "id": "569cd5b8-994f-4f71-8061-21e53e23da18",
   "metadata": {},
   "source": [
    "### Option 3: Auto-fill in Excel (if you want Excel + Python)"
   ]
  },
  {
   "cell_type": "markdown",
   "id": "508029f8-b90f-40aa-8d85-c746c5cad22b",
   "metadata": {},
   "source": [
    " You can use Excel as a front-end and Python to power the logic via:"
   ]
  },
  {
   "cell_type": "code",
   "execution_count": 21,
   "id": "9c06d019-7d31-4a06-8bc0-6dd7a744b5bc",
   "metadata": {},
   "outputs": [
    {
     "name": "stdout",
     "output_type": "stream",
     "text": [
      "✅ Data written to Sheet2 based on emp_id.\n",
      "✅ Data written to Sheet2 based on emp_id.\n"
     ]
    }
   ],
   "source": [
    "import pandas as pd\n",
    "from openpyxl import load_workbook\n",
    "\n",
    "# Step 1: Load Excel file\n",
    "file_path = r\"C:\\Users\\hp\\Desktop\\Daily Update\\Assert\\Asset2\\Interactive_Employee_Selector.xlsx\"\n",
    "\n",
    "\n",
    "# Step 2: Read Sheet1 into a DataFrame\n",
    "df = pd.read_excel(file_path, sheet_name='Sheet1')\n",
    "\n",
    "# Step 3: Set the employee ID you want to search\n",
    "search_emp_id = \"E002\"\n",
    "\n",
    "# Step 4: Filter the matching row\n",
    "emp_data = df[df['emp_id'] == search_emp_id]\n",
    "\n",
    "if not emp_data.empty:\n",
    "    name = emp_data['emp_name'].values[0]\n",
    "    designation = emp_data['designation'].values[0]\n",
    "    mobile = emp_data['mobile'].values[0]\n",
    "\n",
    "    # Step 5: Load workbook and access Sheet2\n",
    "    wb = load_workbook(file_path)\n",
    "    ws = wb[\"Sheet2\"]\n",
    "\n",
    "    # Step 6: Write values to Sheet2 (e.g., in B2, C2, D2, E2)\n",
    "    ws[\"A1\"] = \"User ID\"\n",
    "    ws[\"B1\"] = \"Name\"\n",
    "    ws[\"C1\"] = \"Designation\"\n",
    "    ws[\"D1\"] = \"Mobile Number\"\n",
    "\n",
    "    ws[\"A2\"] = search_emp_id\n",
    "    ws[\"B2\"] = name\n",
    "    ws[\"C2\"] = designation\n",
    "    ws[\"D2\"] = mobile\n",
    "\n",
    "    # Step 7: Save the workbook\n",
    "    wb.save(file_path)\n",
    "    print(\"✅ Data written to Sheet2 based on emp_id.\")\n",
    "else:\n",
    "    print(\"❌ Employee ID not found.\")\n",
    "import pandas as pd\n",
    "from openpyxl import load_workbook\n",
    "\n",
    "# Step 1: Load Excel file\n",
    "file_path = r\"C:\\Users\\hp\\Desktop\\Daily Update\\Assert\\Asset2\\Interactive_Employee_Selector.xlsx\"\n",
    "\n",
    "# Step 2: Read Sheet1 into a DataFrame\n",
    "df = pd.read_excel(file_path, sheet_name='Sheet1')\n",
    "\n",
    "# Step 3: Set the employee ID you want to search\n",
    "search_emp_id = \"E002\"\n",
    "\n",
    "# Step 4: Filter the matching row\n",
    "emp_data = df[df['emp_id'] == search_emp_id]\n",
    "\n",
    "if not emp_data.empty:\n",
    "    name = emp_data['emp_name'].values[0]\n",
    "    designation = emp_data['designation'].values[0]\n",
    "    mobile = emp_data['mobile'].values[0]\n",
    "\n",
    "    # Step 5: Load workbook and access Sheet2\n",
    "    wb = load_workbook(file_path)\n",
    "    ws = wb[\"Sheet2\"]\n",
    "\n",
    "    # Step 6: Write values to Sheet2 (e.g., in B2, C2, D2, E2)\n",
    "    ws[\"A1\"] = \"User ID\"\n",
    "    ws[\"B1\"] = \"Name\"\n",
    "    ws[\"C1\"] = \"Designation\"\n",
    "    ws[\"D1\"] = \"Mobile Number\"\n",
    "\n",
    "    ws[\"A2\"] = search_emp_id\n",
    "    ws[\"B2\"] = name\n",
    "    ws[\"C2\"] = designation\n",
    "    ws[\"D2\"] = mobile\n",
    "\n",
    "    # Step 7: Save the workbook\n",
    "    wb.save(file_path)\n",
    "    print(\"✅ Data written to Sheet2 based on emp_id.\")\n",
    "else:\n",
    "    print(\"❌ Employee ID not found.\")\n"
   ]
  },
  {
   "cell_type": "code",
   "execution_count": null,
   "id": "ab190de3-c701-4dc0-b65b-555db837194e",
   "metadata": {},
   "outputs": [],
   "source": []
  }
 ],
 "metadata": {
  "kernelspec": {
   "display_name": "Python 3 (ipykernel)",
   "language": "python",
   "name": "python3"
  },
  "language_info": {
   "codemirror_mode": {
    "name": "ipython",
    "version": 3
   },
   "file_extension": ".py",
   "mimetype": "text/x-python",
   "name": "python",
   "nbconvert_exporter": "python",
   "pygments_lexer": "ipython3",
   "version": "3.12.7"
  }
 },
 "nbformat": 4,
 "nbformat_minor": 5
}
